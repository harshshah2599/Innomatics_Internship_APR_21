{
 "cells": [
  {
   "cell_type": "code",
   "execution_count": null,
   "metadata": {},
   "outputs": [],
   "source": [
    "#Question 1\n",
    "\n",
    "import numpy\n",
    "def arrays(arr):\n",
    "    x = numpy.array(arr,float)\n",
    "    return x[::-1]\n",
    "arr = raw_input().strip().split(' ')\n",
    "result = arrays(arr)\n",
    "print(result)"
   ]
  },
  {
   "cell_type": "code",
   "execution_count": null,
   "metadata": {},
   "outputs": [],
   "source": [
    "#Question 2\n",
    "\n",
    "import numpy\n",
    "arr = input().split()\n",
    "x = numpy.array(arr[:],int)\n",
    "print(numpy.reshape(x,(3,3)))"
   ]
  },
  {
   "cell_type": "code",
   "execution_count": null,
   "metadata": {},
   "outputs": [],
   "source": [
    "#Question 3\n",
    "\n",
    "import numpy\n",
    "N, M = map(int, input().split())\n",
    "X = numpy.array([input().split() for _ in range(N)], int)\n",
    "print (numpy.transpose(X))\n",
    "print (X.flatten())"
   ]
  },
  {
   "cell_type": "code",
   "execution_count": null,
   "metadata": {},
   "outputs": [],
   "source": [
    "#Question 4\n",
    "\n",
    "import numpy\n",
    "N, M, P = map(int,input().split())\n",
    "arr1 = numpy.array([input().split() for _ in range(N)],int)\n",
    "arr2 = numpy.array([input().split() for _ in range(M)],int)\n",
    "print(numpy.concatenate((arr1, arr2), axis = 0))"
   ]
  },
  {
   "cell_type": "code",
   "execution_count": null,
   "metadata": {},
   "outputs": [],
   "source": [
    "#Question 5\n",
    "\n",
    "import numpy\n",
    "X = tuple(map(int,(input().split())))\n",
    "array_zeros = numpy.zeros((X), dtype=numpy.int)\n",
    "print(array_zeros)\n",
    "array_ones = numpy.ones((X), dtype=numpy.int)\n",
    "print(array_ones)"
   ]
  },
  {
   "cell_type": "code",
   "execution_count": null,
   "metadata": {},
   "outputs": [],
   "source": [
    "#Question 6\n",
    "\n",
    "import numpy\n",
    "numpy.set_printoptions(legacy='1.13')\n",
    "N,M = map(int,input().split())\n",
    "print(numpy.eye(N,M))"
   ]
  },
  {
   "cell_type": "code",
   "execution_count": null,
   "metadata": {},
   "outputs": [],
   "source": [
    "#Question 7\n",
    "\n",
    "import numpy\n",
    "N,M = map(int,input().split())\n",
    "array_A = numpy.array([input().split() for _ in range(N)],int)\n",
    "array_B = numpy.array([input().split() for _ in range(N)],int)\n",
    "print(numpy.add(array_A,array_B))\n",
    "print(numpy.subtract(array_A,array_B))\n",
    "print(numpy.multiply(array_A,array_B))\n",
    "print(numpy.floor_divide(array_A,array_B))\n",
    "print(numpy.mod(array_A,array_B))\n",
    "print(numpy.power(array_A,array_B))"
   ]
  },
  {
   "cell_type": "code",
   "execution_count": null,
   "metadata": {},
   "outputs": [],
   "source": [
    "#Question 8\n",
    "\n",
    "import numpy\n",
    "numpy.set_printoptions(legacy='1.13')\n",
    "X = numpy.array(input().split(),float)\n",
    "print(numpy.floor(X))\n",
    "print(numpy.ceil(X))\n",
    "print(numpy.rint(X))"
   ]
  },
  {
   "cell_type": "code",
   "execution_count": null,
   "metadata": {},
   "outputs": [],
   "source": [
    "#Question 9\n",
    "\n",
    "import numpy\n",
    "N,M = map(int,input().split())\n",
    "X = numpy.array([input().split() for _ in range(N)],int)\n",
    "Sum = numpy.sum(X,axis=0)\n",
    "print(numpy.prod(Sum))"
   ]
  },
  {
   "cell_type": "code",
   "execution_count": null,
   "metadata": {},
   "outputs": [],
   "source": [
    "#Question 10\n",
    "\n",
    "import numpy\n",
    "N,M = map(int,input().split())\n",
    "X = numpy.array([input().split() for _ in range(N)],int)\n",
    "Min = numpy.min(X,axis=1)\n",
    "print(numpy.max(Min))"
   ]
  },
  {
   "cell_type": "code",
   "execution_count": null,
   "metadata": {},
   "outputs": [],
   "source": [
    "#Question 11\n",
    "\n",
    "import numpy\n",
    "N,M = map(int,input().split())\n",
    "X = numpy.array([input().split() for _ in range(N)],int)\n",
    "print(numpy.mean(X,axis=1))\n",
    "print(numpy.var(X,axis=0))\n",
    "print(numpy.std(X,axis=None).round(decimals=11))"
   ]
  },
  {
   "cell_type": "code",
   "execution_count": null,
   "metadata": {},
   "outputs": [],
   "source": [
    "#Question 12\n",
    "\n",
    "import numpy\n",
    "N = int(input())\n",
    "array_A = numpy.array([input().split() for _ in range(N)],int)\n",
    "array_B = numpy.array([input().split() for _ in range(N)],int)\n",
    "print(numpy.dot(array_A,array_B))"
   ]
  },
  {
   "cell_type": "code",
   "execution_count": null,
   "metadata": {},
   "outputs": [],
   "source": [
    "#Question 13\n",
    "\n",
    "import numpy\n",
    "array_A = numpy.array(input().split(),int)\n",
    "array_B = numpy.array(input().split(),int)\n",
    "print(numpy.inner(array_A,array_B))\n",
    "print(numpy.outer(array_A,array_B))"
   ]
  },
  {
   "cell_type": "code",
   "execution_count": null,
   "metadata": {},
   "outputs": [],
   "source": [
    "#Question 14\n",
    "\n",
    "import numpy\n",
    "poly = list(map(float,(input().split())))\n",
    "x = int(input())\n",
    "print(numpy.polyval(poly,x))"
   ]
  },
  {
   "cell_type": "code",
   "execution_count": null,
   "metadata": {},
   "outputs": [],
   "source": [
    "#Question 15\n",
    "\n",
    "import numpy\n",
    "N = int(input())\n",
    "array_A = numpy.array([input().split() for _ in range(N)],float)\n",
    "print(numpy.linalg.det(array_A).round(decimals=2))"
   ]
  }
 ],
 "metadata": {
  "kernelspec": {
   "display_name": "Python 3",
   "language": "python",
   "name": "python3"
  },
  "language_info": {
   "codemirror_mode": {
    "name": "ipython",
    "version": 3
   },
   "file_extension": ".py",
   "mimetype": "text/x-python",
   "name": "python",
   "nbconvert_exporter": "python",
   "pygments_lexer": "ipython3",
   "version": "3.7.6"
  }
 },
 "nbformat": 4,
 "nbformat_minor": 4
}
