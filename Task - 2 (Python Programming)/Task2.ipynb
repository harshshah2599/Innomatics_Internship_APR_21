{
 "cells": [
  {
   "cell_type": "code",
   "execution_count": null,
   "metadata": {},
   "outputs": [],
   "source": [
    "#Question 1\n",
    "x = int(input())\n",
    "y = int(input())\n",
    "z = int(input())\n",
    "n = int(input())\n",
    "\n",
    "print ([[a,b,c] \n",
    "       for a in range(x+1) \n",
    "       for b in range(y+1) \n",
    "       for c in range(z+1) \n",
    "       if a + b + c != n ])"
   ]
  },
  {
   "cell_type": "code",
   "execution_count": null,
   "metadata": {},
   "outputs": [],
   "source": [
    "#Question 2\n",
    "\n",
    "n = int(input())\n",
    "arr = map(int, input().split())\n",
    "x = set(arr)\n",
    "x = list(x)\n",
    "x.sort(reverse=True)\n",
    "print(x[1])"
   ]
  },
  {
   "cell_type": "code",
   "execution_count": null,
   "metadata": {
    "scrolled": true
   },
   "outputs": [],
   "source": [
    "#Question 3\n",
    "\n",
    "marks = []\n",
    "second_lowest = []\n",
    "scores = set()\n",
    "\n",
    "for _ in range(int(input())):\n",
    "    name = input()\n",
    "    score = float(input())\n",
    "    marks.append([name, score])\n",
    "    scores.add(score)\n",
    "\n",
    "x = sorted(scores)[1]\n",
    "\n",
    "\n",
    "for name, score in marks:\n",
    "    if score == x:\n",
    "        second_lowest.append(name)\n",
    "\n",
    "for name in sorted(second_lowest):\n",
    "    print(name, end='\\n')"
   ]
  },
  {
   "cell_type": "code",
   "execution_count": null,
   "metadata": {},
   "outputs": [],
   "source": [
    "#Question 4\n",
    "\n",
    "n = int(input())\n",
    "student_marks = {}\n",
    "x = []\n",
    "for _ in range(n):\n",
    "    name, *line = input().split()\n",
    "    scores = list(map(float, line))\n",
    "    student_marks[name] = scores\n",
    "query_name = input()\n",
    "x = student_marks[query_name]\n",
    "avg = sum(x)/len(x)\n",
    "print(\"{0:.2f}\".format(avg))"
   ]
  },
  {
   "cell_type": "code",
   "execution_count": null,
   "metadata": {},
   "outputs": [],
   "source": [
    "#Question 5\n",
    "\n",
    "N = int(input())\n",
    "List = []\n",
    "for _ in range(N):\n",
    "    commands = input().strip().split(\" \")\n",
    "    if commands[0] == \"append\":\n",
    "        List.append(int(commands[1]))\n",
    "    elif commands[0] == \"insert\":\n",
    "        List.insert(int(commands[1]), int(commands[2]))\n",
    "    elif commands[0] == \"remove\":\n",
    "        List.remove(int(commands[1]))\n",
    "    elif commands[0] == \"pop\":\n",
    "        List.pop()\n",
    "    elif commands[0] == \"sort\":\n",
    "        List.sort()\n",
    "    elif commands[0] == \"reverse\":\n",
    "        List.reverse()\n",
    "    elif commands[0] == \"print\":\n",
    "        print(List)"
   ]
  },
  {
   "cell_type": "code",
   "execution_count": null,
   "metadata": {},
   "outputs": [],
   "source": [
    "#Question 6\n",
    "\n",
    "n = int(input())\n",
    "interger_input = tuple(map(int, input().split(' ')))\n",
    "print(hash(interger_input)) "
   ]
  },
  {
   "cell_type": "code",
   "execution_count": 2,
   "metadata": {},
   "outputs": [
    {
     "name": "stdout",
     "output_type": "stream",
     "text": [
      "5\n",
      "1 2 2 1 2\n",
      "1.5\n"
     ]
    }
   ],
   "source": [
    "#Question 7\n",
    "\n",
    "def average(array):\n",
    "    s = sum(set(arr))\n",
    "    l = len(set(arr))\n",
    "    return(s/l)\n",
    "n = int(input())\n",
    "arr = list(map(int, input().split()))\n",
    "result = average(arr)\n",
    "print(result)"
   ]
  },
  {
   "cell_type": "code",
   "execution_count": null,
   "metadata": {},
   "outputs": [],
   "source": [
    "#Question 8\n",
    "\n",
    "n, m = input().split()\n",
    "\n",
    "x = input().split()\n",
    "\n",
    "A = set(input().split())\n",
    "B = set(input().split())\n",
    "print (sum([(i in A) - (i in B) for i in x]))"
   ]
  },
  {
   "cell_type": "code",
   "execution_count": null,
   "metadata": {},
   "outputs": [],
   "source": [
    "#Question 9\n",
    "\n",
    "M=int(input())\n",
    "M_elements=set(input().split())\n",
    "N=int(input())\n",
    "N_elements=set(input().split())\n",
    "# x=set(M_elements)\n",
    "# y=set(N_elements)\n",
    "p=N_elements.difference(M_elements)\n",
    "q=M_elements.difference(N_elements)\n",
    "u=p.union(q)\n",
    "print ('\\n'.join(sorted(u, key=int)))"
   ]
  },
  {
   "cell_type": "code",
   "execution_count": null,
   "metadata": {},
   "outputs": [],
   "source": [
    "#Question 10\n",
    "\n",
    "n = input()\n",
    "dist_countries = set()\n",
    "for i in range(int(n)):\n",
    "    dist_countries.add(input())\n",
    "print(len(dist_countries)) "
   ]
  },
  {
   "cell_type": "code",
   "execution_count": null,
   "metadata": {},
   "outputs": [],
   "source": [
    "#Question 11\n",
    "\n",
    "n = int(input())\n",
    "s = set(map(int, input().split()))\n",
    "N = int(input())\n",
    "for _ in range(N):\n",
    "    command=input().split()\n",
    "    if command[0]==\"pop\" :\n",
    "        s.pop()\n",
    "    elif command[0]==\"remove\" :\n",
    "        s.remove(int(command[1]))\n",
    "    elif command[0]==\"discard\" :\n",
    "        s.discard(int(command[1]))\n",
    "\n",
    "print(sum(s))"
   ]
  },
  {
   "cell_type": "code",
   "execution_count": null,
   "metadata": {},
   "outputs": [],
   "source": [
    "#Question 12\n",
    "\n",
    "n = input()\n",
    "rollno_n = set(map(int, input().split()))\n",
    "b = input()\n",
    "rollno_b = set(map(int, input().split()))\n",
    "print(len(rollno_n.union(rollno_b)))"
   ]
  },
  {
   "cell_type": "code",
   "execution_count": null,
   "metadata": {},
   "outputs": [],
   "source": [
    "#Question 13\n",
    "\n",
    "n = int(input())\n",
    "rollno_n = set(map(int,input().split()))\n",
    "b = int(input())\n",
    "rollno_b = set(map(int,input().split()))\n",
    "print (len(rollno_n.intersection(rollno_b)))"
   ]
  },
  {
   "cell_type": "code",
   "execution_count": null,
   "metadata": {},
   "outputs": [],
   "source": [
    "#Question 14\n",
    "\n",
    "n = int(input())\n",
    "rollno_n = set(map(int,input().split()))\n",
    "b = int(input())\n",
    "rollno_b = set(map(int,input().split()))\n",
    "print (len(rollno_n.difference(rollno_b)))"
   ]
  },
  {
   "cell_type": "code",
   "execution_count": null,
   "metadata": {},
   "outputs": [],
   "source": [
    "#Question 15\n",
    "\n",
    "n = int(input())\n",
    "rollno_n = set(map(int,input().split()))\n",
    "b = int(input())\n",
    "rollno_b = set(map(int,input().split()))\n",
    "print (len(rollno_n.symmetric_difference(rollno_b)))"
   ]
  },
  {
   "cell_type": "code",
   "execution_count": null,
   "metadata": {},
   "outputs": [],
   "source": [
    "#Question 16\n",
    "\n",
    "num_A = int(input())\n",
    "set_A = set(map(int, input().split()))\n",
    "N = int(input())\n",
    "for i in range(N):\n",
    "    operation, length = input().split()\n",
    "    set_B = set(map(int, input().split()))\n",
    "\n",
    "    if operation == 'intersection_update':\n",
    "        set_A.intersection_update(set_B)\n",
    "    elif operation == 'update':\n",
    "        set_A.update(set_B)\n",
    "    elif operation == 'difference_update':\n",
    "        set_A.difference_update(set_B)\n",
    "    elif operation == 'symmetric_difference_update':\n",
    "        set_A.symmetric_difference_update(set_B)\n",
    "    \n",
    "print(sum(set_A))"
   ]
  },
  {
   "cell_type": "code",
   "execution_count": null,
   "metadata": {},
   "outputs": [],
   "source": [
    "#Question 17\n",
    "\n",
    "K = int(input())\n",
    "room_num = input().split() \n",
    "s1=set()  \n",
    "s2=set()\n",
    "for i in room_num:\n",
    "    if  i in s1:\n",
    "        s2.add(i)\n",
    "    else:\n",
    "        s1.add(i)\n",
    "s3=s1.difference(s2)\n",
    "print(list(s3)[0])"
   ]
  },
  {
   "cell_type": "code",
   "execution_count": null,
   "metadata": {},
   "outputs": [],
   "source": [
    "#Question 18\n",
    "\n",
    "T = int(input())\n",
    "for i in range(T):\n",
    "    num_A = input()\n",
    "    set_A = set(map(int, input().split()))\n",
    "    num_B = input()\n",
    "    set_B = set(map(int, input().split()))\n",
    "    print(set_A.issubset(set_B))"
   ]
  },
  {
   "cell_type": "code",
   "execution_count": null,
   "metadata": {},
   "outputs": [],
   "source": [
    "#Question 19\n",
    "\n",
    "set_A = set(map(int, input().split()))\n",
    "n = int(input())\n",
    "flag=0\n",
    "for i in range(n):\n",
    "    set_B = set(map(int, input().split()))\n",
    "    if len(set_B.difference(set_A))!=0: \n",
    "        flag=1\n",
    "    else:\n",
    "        if len(set_B)==len(set_A):\n",
    "            flag=1\n",
    "if flag==0:\n",
    "    print(\"True\")\n",
    "else:\n",
    "    print(\"False\")"
   ]
  }
 ],
 "metadata": {
  "kernelspec": {
   "display_name": "Python 3",
   "language": "python",
   "name": "python3"
  },
  "language_info": {
   "codemirror_mode": {
    "name": "ipython",
    "version": 3
   },
   "file_extension": ".py",
   "mimetype": "text/x-python",
   "name": "python",
   "nbconvert_exporter": "python",
   "pygments_lexer": "ipython3",
   "version": "3.7.6"
  }
 },
 "nbformat": 4,
 "nbformat_minor": 4
}
