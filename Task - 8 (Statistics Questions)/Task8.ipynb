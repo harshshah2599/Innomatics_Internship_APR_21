{
 "cells": [
  {
   "cell_type": "code",
   "execution_count": null,
   "metadata": {},
   "outputs": [],
   "source": [
    "# Binomial Distribution 1\n",
    "\n",
    "import math\n",
    "def bino_dist(x, n, p):\n",
    "    x = (math.factorial(n)/(math.factorial(x)*math.factorial(n-x)))*(p**x)*((1-p)**(n-x))\n",
    "    return(x)\n",
    "x, p, n = 0, 1.09/2.09, 6\n",
    "for i in range(3,7):\n",
    "    x += bino_dist(i, n, p)   \n",
    "print(\"%.3f\" %x)"
   ]
  },
  {
   "cell_type": "code",
   "execution_count": null,
   "metadata": {},
   "outputs": [],
   "source": [
    "# Binomial Distribution 2\n",
    "\n",
    "from math import factorial\n",
    "r, p = map(float, input().split())\n",
    "def comb(n, r):\n",
    "    return factorial(n) / (factorial(r) * factorial(n - r))\n",
    "print(round(sum([comb(p, i) * (r / 100)**i * ((100 - r) / 100)**(p - i)  for i in range(0, 3)]), 3))\n",
    "print(round(sum([comb(p, i) * (r / 100)**i * ((100 - r) / 100)**(p - i)  for i in range(2, 11)]), 3))\n"
   ]
  },
  {
   "cell_type": "code",
   "execution_count": null,
   "metadata": {},
   "outputs": [],
   "source": [
    "# Normal Distribution 1\n",
    "\n",
    "import math\n",
    "a = 1/2 * (1 + math.erf((19.5 - 20)/(math.sqrt(2)*2)))\n",
    "b = (1/2 * (1 + math.erf((22 - 20)/(math.sqrt(2)*2)))) - 1/2\n",
    "print(\"%.3f\" % a)\n",
    "print(\"%.3f\" % b)"
   ]
  },
  {
   "cell_type": "code",
   "execution_count": null,
   "metadata": {},
   "outputs": [],
   "source": [
    "# Normal Distribution 2\n",
    "\n",
    "import math\n",
    "mean, std = 70, 10\n",
    "s = lambda i: 0.5 * (1 + math.erf((i - mean) / (std * (2 ** 0.5))))\n",
    "print(round((1-s(80))*100,2))\n",
    "print(round((1-s(60))*100,2))\n",
    "print(round((s(60))*100,2))"
   ]
  },
  {
   "cell_type": "code",
   "execution_count": null,
   "metadata": {},
   "outputs": [],
   "source": [
    "# The Central Limit Theorem 1\n",
    "\n",
    "import math\n",
    "x = int(input())\n",
    "n = int(input())\n",
    "u = int(input())\n",
    "s = int(input())\n",
    "def cdf(x, u, s):\n",
    "    Z = (x - u)/s\n",
    "    return 0.5*(1 + math.erf(Z/(math.sqrt(2))))\n",
    "print(round(cdf(x, (n*u), (math.sqrt(n) * s)), 4))"
   ]
  },
  {
   "cell_type": "code",
   "execution_count": null,
   "metadata": {},
   "outputs": [],
   "source": [
    "# The Central Limit Theorem 2\n",
    "\n",
    "import sys\n",
    "import math as m\n",
    "t = float(input().strip())\n",
    "stu=float(input().strip())\n",
    "mean=float(input().strip())\n",
    "s=float(input().strip())\n",
    "def error(x,mean,s):\n",
    "    return m.erf(((x-mean)/(s*m.sqrt(2.0))))\n",
    "def fun1(x,mean,s):\n",
    "    return 0.5*(1+error(x,mean,s))\n",
    "z_max =(t-stu*mean)/(s*m.sqrt(stu))\n",
    "z=round(z_max,2)\n",
    "print (\"%.4f\" % (fun1(z,0,1)))"
   ]
  },
  {
   "cell_type": "code",
   "execution_count": null,
   "metadata": {},
   "outputs": [],
   "source": [
    "# The Central Limit Theorem 3\n",
    "\n",
    "sample = float(input())\n",
    "mean = float(input())\n",
    "std = float(input())\n",
    "interval = float(input())\n",
    "z = float (input())\n",
    "sd_sample = std / (sample**0.5)\n",
    "print(round(mean - sd_sample*z,2))\n",
    "print(round(mean + sd_sample*z,2))"
   ]
  },
  {
   "cell_type": "code",
   "execution_count": null,
   "metadata": {},
   "outputs": [],
   "source": [
    "# Pearson Correlation Coefficient 1\n",
    "\n",
    "n = int(input())\n",
    "X = list(map(float,input().strip().split()))\n",
    "Y = list(map(float,input().strip().split()))\n",
    "mu_x = sum(X) / n\n",
    "mu_y = sum(Y) / n\n",
    "std_x = (sum([(i - mu_x)**2 for i in X]) / n)**0.5\n",
    "std_y = (sum([(i - mu_y)**2 for i in Y]) / n)**0.5\n",
    "cov = sum([(X[i] - mu_x) * (Y[i] -mu_y) for i in range(n)])\n",
    "cc = cov / (n * std_x * std_y)\n",
    "print(round(cc,3))"
   ]
  },
  {
   "cell_type": "code",
   "execution_count": null,
   "metadata": {},
   "outputs": [],
   "source": [
    "# Least Square Regression Line\n",
    "\n"
   ]
  },
  {
   "cell_type": "code",
   "execution_count": null,
   "metadata": {},
   "outputs": [],
   "source": [
    "# Multiple Linear Regression\n",
    "\n"
   ]
  }
 ],
 "metadata": {
  "kernelspec": {
   "display_name": "Python 3",
   "language": "python",
   "name": "python3"
  },
  "language_info": {
   "codemirror_mode": {
    "name": "ipython",
    "version": 3
   },
   "file_extension": ".py",
   "mimetype": "text/x-python",
   "name": "python",
   "nbconvert_exporter": "python",
   "pygments_lexer": "ipython3",
   "version": "3.7.6"
  }
 },
 "nbformat": 4,
 "nbformat_minor": 4
}
