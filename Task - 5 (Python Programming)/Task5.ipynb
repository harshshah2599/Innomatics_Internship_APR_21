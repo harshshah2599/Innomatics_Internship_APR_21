{
 "cells": [
  {
   "cell_type": "code",
   "execution_count": null,
   "metadata": {},
   "outputs": [],
   "source": [
    "#Question 1\n",
    "\n",
    "import re\n",
    "for _ in range(int(input())):\n",
    "    print(bool(re.match(\"^[\\+-]?\\d*\\.\\d+$\", input())))"
   ]
  },
  {
   "cell_type": "code",
   "execution_count": null,
   "metadata": {},
   "outputs": [],
   "source": [
    "#Question 2\n",
    "\n",
    "regex_pattern = r\"\\D+\"\n",
    "import re\n",
    "print(\"\\n\".join(re.split(regex_pattern, input())))"
   ]
  },
  {
   "cell_type": "code",
   "execution_count": null,
   "metadata": {},
   "outputs": [],
   "source": [
    "#Question 3\n",
    "\n",
    "import re\n",
    "S = re.search(r\"([a-z0-9])\\1+\", input())\n",
    "print(S.group(1) if S else -1)"
   ]
  },
  {
   "cell_type": "code",
   "execution_count": null,
   "metadata": {},
   "outputs": [],
   "source": [
    "#Question 4\n",
    "\n",
    "import re\n",
    "sequence=r'(?<=[b-df-hj-np-tv-zB-DF-HJ-NP-TV-Z])([aeiouAEIOU]{2,})(?=[b-df-hj-np-tv-zB-DF-HJ-NP-TV-Z])'\n",
    "S=re.findall(sequence,input())\n",
    "if S==[]:\n",
    "    print(-1)\n",
    "else:\n",
    "    for i in S:\n",
    "        print(i)"
   ]
  },
  {
   "cell_type": "code",
   "execution_count": null,
   "metadata": {},
   "outputs": [],
   "source": [
    "#Question 5\n",
    "\n",
    "import re\n",
    "\n",
    "S = input()\n",
    "k = input()\n",
    "if k in S:\n",
    "    print(*[(i.start(), (i.start()+len(k)-1)) for i in re.finditer(r'(?={})'.format(k), S)], sep='\\n')\n",
    "else:\n",
    "    print('(-1, -1)')"
   ]
  },
  {
   "cell_type": "code",
   "execution_count": null,
   "metadata": {},
   "outputs": [],
   "source": [
    "#Question 6\n",
    "\n",
    "N=int(input())\n",
    "for _ in range(N):\n",
    "    text = input()\n",
    "    while ' && ' in text or ' || ' in text:\n",
    "        text = text.replace(\" && \", \" and \").replace(\" || \", \" or \")\n",
    "    print(text)"
   ]
  },
  {
   "cell_type": "code",
   "execution_count": null,
   "metadata": {},
   "outputs": [],
   "source": [
    "#Question 7\n",
    "\n",
    "thousand = \"(?:(M){0,3})?\"\n",
    "hundred  = \"(?:(D?(C){0,3})|(CM)|(CD))?\"\n",
    "ten      = \"(?:(L?(X){0,3})|(XC)|(XL))?\"\n",
    "unit     = \"(?:(V?(I){0,3})|(IX)|(IV))?\"\n",
    "regex_pattern = r\"^\" + thousand + hundred + ten + unit + \"$\"\n",
    "import re\n",
    "print(str(bool(re.match(regex_pattern, input()))))"
   ]
  },
  {
   "cell_type": "code",
   "execution_count": null,
   "metadata": {},
   "outputs": [],
   "source": [
    "#Question 8\n",
    "\n",
    "import re\n",
    "N = int(input())\n",
    "pattern = re.compile(r'^[7-9]\\d{9}$')\n",
    "ph_no = [input() for _ in range(N)]\n",
    "for i in ph_no:\n",
    "    if pattern.match(i):\n",
    "        print('YES')\n",
    "    else:\n",
    "        print('NO')"
   ]
  },
  {
   "cell_type": "code",
   "execution_count": null,
   "metadata": {},
   "outputs": [],
   "source": [
    "#Question 9\n",
    "\n",
    "import re\n",
    "n=int(input())\n",
    "pattern = r'[\\S]+\\s<[a-z][\\w\\-\\.]*@[a-z]+[\\.][a-z]{1,3}>$'\n",
    "for i in range(0,n):\n",
    "    match=re.search(pattern , input())\n",
    "    if match:\n",
    "        print(match.group())"
   ]
  },
  {
   "cell_type": "code",
   "execution_count": null,
   "metadata": {},
   "outputs": [],
   "source": [
    "#Question 10\n",
    "\n",
    "import re\n",
    "for i in range(int(input())):\n",
    "    match = re.findall(r':?.(#[0-9a-fA-F]{6}|#[0-9a-fA-F]{3})', input())\n",
    "    if match:\n",
    "        print(*match, sep='\\n')"
   ]
  },
  {
   "cell_type": "code",
   "execution_count": null,
   "metadata": {},
   "outputs": [],
   "source": [
    "#Question 11\n",
    "\n",
    "import re\n",
    "tag = re.compile(r\"(?<=<)(?:.*?)(?=>)\")\n",
    "attr = re.compile(r\"([\\w-]+)(?:=[\\\"'](.*?)[\\\"'])?\")\n",
    "s = \"\"\n",
    "for _ in range(int(input())):\n",
    "    s += input()\n",
    "s = re.sub(r\"(?:<!--(.|\\s)*?(?:-->))\",\"\",s)\n",
    "tags = tag.findall(s)\n",
    "for tag in tags:\n",
    "    if tag[0] == \"/\":\n",
    "        print(\"End   :\",tag[1:])\n",
    "    else:\n",
    "        attributes = attr.findall(tag)\n",
    "        if tag[-1] == \"/\":\n",
    "            print(\"Empty :\",attributes[0][0])\n",
    "        else:\n",
    "            print(\"Start :\",attributes[0][0])\n",
    "            \n",
    "        for i in range(1,len(attributes)):\n",
    "            a = attributes[i][0]\n",
    "            if attributes[i][1] == '': \n",
    "                v = 'None' \n",
    "            else: \n",
    "                v = attributes[i][1]\n",
    "            print(\"-> {} > {}\".format(a,v))"
   ]
  },
  {
   "cell_type": "code",
   "execution_count": null,
   "metadata": {},
   "outputs": [],
   "source": [
    "#Question 12\n",
    "\n",
    "from html.parser import HTMLParser\n",
    "\n",
    "class MyHTMLParser(HTMLParser):\n",
    "    def handle_comment(self, data):\n",
    "        number_of_line = len(data.split('\\n'))\n",
    "        if number_of_line>1:\n",
    "            print('>>> Multi-line Comment')\n",
    "        else:\n",
    "            print('>>> Single-line Comment')\n",
    "        if data.strip():\n",
    "            print(data)\n",
    "\n",
    "    def handle_data(self, data):\n",
    "        if data.strip():\n",
    "            print(\">>> Data\")\n",
    "            print(data)\n",
    "  \n",
    "html = \"\"       \n",
    "for i in range(int(input())):\n",
    "    html += input().rstrip()\n",
    "    html += '\\n'\n",
    "    \n",
    "parser = MyHTMLParser()\n",
    "parser.feed(html)\n",
    "parser.close()"
   ]
  },
  {
   "cell_type": "code",
   "execution_count": null,
   "metadata": {},
   "outputs": [],
   "source": [
    "#Question 13\n",
    "\n",
    "from html.parser import HTMLParser\n",
    "\n",
    "class MyHTMLParser(HTMLParser):\n",
    "    def handle_starttag(self, tag, attrs):\n",
    "        print(tag) \n",
    "        for attr in attrs:\n",
    "            print(\"->\", attr[0], \">\", attr[1])\n",
    "\n",
    "parser = MyHTMLParser()\n",
    "l=[]\n",
    "for i in range(int(input())):\n",
    "    l.append(input())\n",
    "result='\\n'.join(l)\n",
    "parser.feed(result)"
   ]
  },
  {
   "cell_type": "code",
   "execution_count": null,
   "metadata": {},
   "outputs": [],
   "source": [
    "#Question 14\n",
    "\n",
    "import re\n",
    "\n",
    "for _ in range(int(input())):\n",
    "    T = ''.join(sorted(input()))\n",
    "    try:\n",
    "        assert re.search(r'[A-Z]{2}', T)\n",
    "        assert re.search(r'\\d\\d\\d', T)\n",
    "        assert not re.search(r'[^a-zA-Z0-9]', T)\n",
    "        assert not re.search(r'(.)\\1', T)\n",
    "        assert len(T) == 10\n",
    "    except:\n",
    "        print('Invalid')\n",
    "    else:\n",
    "        print('Valid')"
   ]
  },
  {
   "cell_type": "code",
   "execution_count": null,
   "metadata": {},
   "outputs": [],
   "source": [
    "#Question 15\n",
    "\n",
    "import re\n",
    "test_no = re.compile(r\"^\"r\"(?!.*(\\d)(-?\\1){3})\"r\"[456]\"r\"\\d{3}\"r\"(?:-?\\d{4}){3}\"r\"$\")\n",
    "for _ in range(int(input().strip())):\n",
    "    print(\"Valid\" if test_no.search(input().strip()) else \"Invalid\")"
   ]
  },
  {
   "cell_type": "code",
   "execution_count": null,
   "metadata": {},
   "outputs": [],
   "source": [
    "#Question 16\n",
    "\n",
    "regex_integer_in_range = r\"^[1-9][\\d]{5}$\"\n",
    "regex_alternating_repetitive_digit_pair = r\"(\\d)(?=\\d\\1)\"\t\n",
    "import re\n",
    "P = input()\n",
    "print (bool(re.match(regex_integer_in_range, P)) \n",
    "and len(re.findall(regex_alternating_repetitive_digit_pair, P)) < 2)"
   ]
  },
  {
   "cell_type": "code",
   "execution_count": null,
   "metadata": {},
   "outputs": [],
   "source": [
    "#Question 17\n",
    "\n",
    "import math\n",
    "import os\n",
    "import random\n",
    "import re\n",
    "import sys\n",
    "first_multiple_input = input().rstrip().split()\n",
    "n = int(first_multiple_input[0])\n",
    "m = int(first_multiple_input[1])\n",
    "matrix = []\n",
    "for _ in range(n):\n",
    "    matrix_item = input()\n",
    "    matrix.append(matrix_item)\n",
    "    text = [line[i] for i in range(m) for line in matrix]\n",
    "    text = ''.join(text)\n",
    "    pattern = r'([A-Za-z0-9])[!@#$%&\\s]+(?=[A-Za-z0-9])'\n",
    "    text = re.sub(pattern,r'\\1 ', text)\n",
    "print(text)\n",
    "    "
   ]
  }
 ],
 "metadata": {
  "kernelspec": {
   "display_name": "Python 3",
   "language": "python",
   "name": "python3"
  },
  "language_info": {
   "codemirror_mode": {
    "name": "ipython",
    "version": 3
   },
   "file_extension": ".py",
   "mimetype": "text/x-python",
   "name": "python",
   "nbconvert_exporter": "python",
   "pygments_lexer": "ipython3",
   "version": "3.7.6"
  }
 },
 "nbformat": 4,
 "nbformat_minor": 4
}
