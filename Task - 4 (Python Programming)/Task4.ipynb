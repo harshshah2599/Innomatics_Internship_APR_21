{
 "cells": [
  {
   "cell_type": "code",
   "execution_count": null,
   "metadata": {},
   "outputs": [],
   "source": [
    "#Question 1\n",
    "\n",
    "def swap_case(s):\n",
    "    result = \"\"\n",
    "    for i in s:\n",
    "        if i == i.upper():\n",
    "            result += i.lower()\n",
    "        else:\n",
    "            result += i.upper()\n",
    "    return result"
   ]
  },
  {
   "cell_type": "code",
   "execution_count": null,
   "metadata": {},
   "outputs": [],
   "source": [
    "#Question 2\n",
    "\n",
    "def split_and_join(line):\n",
    "    line=line.split(\" \") \n",
    "    line='-'.join(line)    \n",
    "    return line"
   ]
  },
  {
   "cell_type": "code",
   "execution_count": null,
   "metadata": {},
   "outputs": [],
   "source": [
    "#Question 3\n",
    "\n",
    "def print_full_name(first, last):\n",
    "    print(\"Hello {} {}! You just delved into python.\".format(first,last))"
   ]
  },
  {
   "cell_type": "code",
   "execution_count": null,
   "metadata": {},
   "outputs": [],
   "source": [
    "#Question 4\n",
    "\n",
    "def mutate_string(string, position, character):\n",
    "    x=string[:position]\n",
    "    y=character\n",
    "    z=string[position + 1:]\n",
    "    return x+y+z "
   ]
  },
  {
   "cell_type": "code",
   "execution_count": null,
   "metadata": {},
   "outputs": [],
   "source": [
    "#Question 5\n",
    "\n",
    "def count_substring(string, sub_string):\n",
    "    count = 0\n",
    "\n",
    "    while sub_string in string:\n",
    "        i = string.find(sub_string)\n",
    "        string = string[:i] + string[i + 1:]\n",
    "        count += 1\n",
    "    return count"
   ]
  },
  {
   "cell_type": "code",
   "execution_count": null,
   "metadata": {},
   "outputs": [],
   "source": [
    "#Question 6\n",
    "\n",
    "s = input()\n",
    "print(any(i.isalnum() for i in s))\n",
    "print(any(i.isalpha() for i in s))\n",
    "print(any(i.isdigit() for i in s))\n",
    "print(any(i.islower() for i in s))\n",
    "print(any(i.isupper() for i in s))"
   ]
  },
  {
   "cell_type": "code",
   "execution_count": null,
   "metadata": {},
   "outputs": [],
   "source": [
    "#Question 7\n",
    "\n",
    "thickness = int(input()) #This must be an odd number\n",
    "c = 'H'\n",
    "\n",
    "#Top Cone\n",
    "for i in range(thickness):\n",
    "    print((c*i).rjust(thickness-1)+c+(c*i).ljust(thickness-1))\n",
    "\n",
    "#Top Pillars\n",
    "for i in range(thickness+1):\n",
    "    print((c*thickness).center(thickness*2)+(c*thickness).center(thickness*6))\n",
    "\n",
    "#Middle Belt\n",
    "for i in range((thickness+1)//2):\n",
    "    print((c*thickness*5).center(thickness*6))    \n",
    "\n",
    "#Bottom Pillars\n",
    "for i in range(thickness+1):\n",
    "    print((c*thickness).center(thickness*2)+(c*thickness).center(thickness*6))    \n",
    "\n",
    "#Bottom Cone\n",
    "for i in range(thickness):\n",
    "    print(((c*(thickness-i-1)).rjust(thickness)+c+(c*(thickness-i-1)).ljust(thickness)).rjust(thickness*6))"
   ]
  },
  {
   "cell_type": "code",
   "execution_count": null,
   "metadata": {},
   "outputs": [],
   "source": [
    "#Question 8\n",
    "\n",
    "import textwrap\n",
    "\n",
    "def wrap(string, max_width):\n",
    "    l = \" \".join(textwrap.wrap(string,max_width))\n",
    "    return (textwrap.fill(l,max_width))\n",
    "    "
   ]
  },
  {
   "cell_type": "code",
   "execution_count": null,
   "metadata": {},
   "outputs": [],
   "source": [
    "#Question 9\n",
    "\n",
    "N, M = map(int, input().split(\" \"))\n",
    "\n",
    "for i in range(N):\n",
    "    pattern = \".|.\"\n",
    "    if i < (N-1)/2:\n",
    "            print((pattern * (2*i+1)).center(M, \"-\"))\n",
    "    elif i == (N-1)/2:\n",
    "            print(\"WELCOME\".center(M, \"-\"))\n",
    "    else:\n",
    "            print((pattern * (2*(N-1-i)+1)).center(M, \"-\"))"
   ]
  },
  {
   "cell_type": "code",
   "execution_count": null,
   "metadata": {},
   "outputs": [],
   "source": [
    "#Question 10\n",
    "\n",
    "def print_formatted(number):\n",
    "    width = len(\"{0:b}\".format(n))\n",
    "    for i in range(1,n+1):\n",
    "        print(\"{0:{width}d} {0:{width}o} {0:{width}X} {0:{width}b}\".format(i,width=width)"
   ]
  },
  {
   "cell_type": "code",
   "execution_count": null,
   "metadata": {},
   "outputs": [],
   "source": [
    "#Question 11\n",
    "\n",
    "def print_rangoli(size):\n",
    "    alp = 'abcdefghijklmnopqrstuvwxyz'\n",
    "    for i in range(size-1,-size,-1):\n",
    "        temp = '-'.join(alp[size-1:abs(i):-1]+alp[abs(i):size])\n",
    "        print(temp.center(4*size-3,'-'))"
   ]
  },
  {
   "cell_type": "code",
   "execution_count": null,
   "metadata": {},
   "outputs": [],
   "source": [
    "#Question 12\n",
    "\n",
    "def solve(s):\n",
    "    return(' '.join(map(str.capitalize, s.split(' '))))"
   ]
  },
  {
   "cell_type": "code",
   "execution_count": null,
   "metadata": {},
   "outputs": [],
   "source": [
    "#Question 13\n",
    "\n",
    "def minion_game(string):\n",
    "\n",
    "    vowels_list = 'AEIOU'\n",
    "\n",
    "    kev = 0\n",
    "    stu = 0\n",
    "    for i in range(len(s)):\n",
    "        if s[i] in vowels_list:\n",
    "            kev += (len(s)-i)\n",
    "        else:\n",
    "            stu += (len(s)-i)\n",
    "\n",
    "    if kev > stu:\n",
    "        print(\"Kevin\", kev)\n",
    "    elif kev < stu:\n",
    "        print(\"Stuart\", stu)\n",
    "    else:\n",
    "        print(\"Draw\")\n",
    "\n"
   ]
  },
  {
   "cell_type": "code",
   "execution_count": null,
   "metadata": {},
   "outputs": [],
   "source": [
    "#Question 14\n",
    "\n",
    "def merge_the_tools(string, k):\n",
    "    for i in range(0,len(string),k):\n",
    "        result=string[i:i+k]\n",
    "        print(\"\".join(dict.fromkeys(result)))"
   ]
  },
  {
   "cell_type": "code",
   "execution_count": null,
   "metadata": {},
   "outputs": [],
   "source": []
  }
 ],
 "metadata": {
  "kernelspec": {
   "display_name": "Python 3",
   "language": "python",
   "name": "python3"
  },
  "language_info": {
   "codemirror_mode": {
    "name": "ipython",
    "version": 3
   },
   "file_extension": ".py",
   "mimetype": "text/x-python",
   "name": "python",
   "nbconvert_exporter": "python",
   "pygments_lexer": "ipython3",
   "version": "3.7.6"
  }
 },
 "nbformat": 4,
 "nbformat_minor": 4
}
